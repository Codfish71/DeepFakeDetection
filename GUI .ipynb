{
 "cells": [
  {
   "cell_type": "code",
   "execution_count": 77,
   "metadata": {},
   "outputs": [],
   "source": [
    "import tkinter as tk\n",
    "from tkinter import *\n",
    "import os\n",
    "from PIL import Image\n",
    "import numpy as np\n",
    "import tensorflow as tf\n",
    "from tensorflow.keras.preprocessing import image\n",
    "# Helper libraries\n",
    "import matplotlib.pyplot as pl\n",
    "import h5py\n",
    "from os import path\n",
    "import sys\n",
    "import tkinter.messagebox\n",
    "from tkinter import filedialog"
   ]
  },
  {
   "cell_type": "code",
   "execution_count": 78,
   "metadata": {},
   "outputs": [],
   "source": [
    "def browse():\n",
    "    global filename\n",
    "    filename=filedialog.askopenfilename()\n",
    "    "
   ]
  },
  {
   "cell_type": "code",
   "execution_count": 79,
   "metadata": {},
   "outputs": [],
   "source": [
    "def predict():\n",
    "    if getattr(sys, 'frozen', False):\n",
    "        MODEL_DIRECTORY = path.join(path.dirname(sys.executable), '.')\n",
    "    else:\n",
    "        MODEL_DIRECTORY = path.dirname('.')\n",
    "    \n",
    "    \n",
    "    mymodel= path.join(MODEL_DIRECTORY, 'custom_model.h5')\n",
    "\n",
    "    model = tf.keras.models.load_model(mymodel)\n",
    "    \n",
    "    img = image.load_img(path.join(MODEL_DIRECTORY, filename),target_size=(224,224))\n",
    "\n",
    "    img_arr = image.img_to_array(img)\n",
    "\n",
    "    test_img = np.expand_dims(img_arr,axis=0)\n",
    "\n",
    "    result = model.predict(test_img)\n",
    "    print (result)"
   ]
  },
  {
   "cell_type": "code",
   "execution_count": 80,
   "metadata": {},
   "outputs": [],
   "source": [
    "window = tk.Tk()\n",
    "window.title(\"DeepFake Detection\")\n",
    "window['background']= 'black'\n",
    "window.geometry(\"700x500\")\n",
    "myfont = \"Times 14 bold\""
   ]
  },
  {
   "cell_type": "code",
   "execution_count": 81,
   "metadata": {},
   "outputs": [],
   "source": [
    "Title = tk.Label(window, text=\"DEEPFAKE DETECTION\",font=myfont,bg=\"gray\", width=\"300\", height=\"2\", fg=\"white\").pack()"
   ]
  },
  {
   "cell_type": "code",
   "execution_count": 82,
   "metadata": {},
   "outputs": [],
   "source": [
    "BROWSE  = Button(window, text=\"BROWSE \", width=\"12\",height=\"4\", bg=\"white\",font = (\"Calibri 12 \"),command = browse).place(x=300, y=160)\n",
    "AI  = Button(window, text=\"TEST ON AI \", width=\"26\",height=\"1\",activebackground=\"red\", bg=\"white\",font = (\"Calibri 12 \"),command = predict).place(x=250, y=270)\n"
   ]
  },
  {
   "cell_type": "code",
   "execution_count": 83,
   "metadata": {},
   "outputs": [
    {
     "name": "stdout",
     "output_type": "stream",
     "text": [
      "WARNING:tensorflow:7 out of the last 7 calls to <function Model.make_predict_function.<locals>.predict_function at 0x000001F121C651F8> triggered tf.function retracing. Tracing is expensive and the excessive number of tracings could be due to (1) creating @tf.function repeatedly in a loop, (2) passing tensors with different shapes, (3) passing Python objects instead of tensors. For (1), please define your @tf.function outside of the loop. For (2), @tf.function has experimental_relax_shapes=True option that relaxes argument shapes that can avoid unnecessary retracing. For (3), please refer to https://www.tensorflow.org/tutorials/customization/performance#python_or_tensor_args and https://www.tensorflow.org/api_docs/python/tf/function for  more details.\n",
      "[[1.]]\n"
     ]
    }
   ],
   "source": [
    "window.mainloop()\n"
   ]
  },
  {
   "cell_type": "code",
   "execution_count": null,
   "metadata": {},
   "outputs": [],
   "source": []
  },
  {
   "cell_type": "code",
   "execution_count": null,
   "metadata": {},
   "outputs": [],
   "source": []
  }
 ],
 "metadata": {
  "kernelspec": {
   "display_name": "Python 3",
   "language": "python",
   "name": "python3"
  },
  "language_info": {
   "codemirror_mode": {
    "name": "ipython",
    "version": 3
   },
   "file_extension": ".py",
   "mimetype": "text/x-python",
   "name": "python",
   "nbconvert_exporter": "python",
   "pygments_lexer": "ipython3",
   "version": "3.7.7"
  }
 },
 "nbformat": 4,
 "nbformat_minor": 4
}
